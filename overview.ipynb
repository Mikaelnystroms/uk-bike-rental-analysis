{
 "cells": [
  {
   "cell_type": "code",
   "execution_count": 1,
   "metadata": {},
   "outputs": [],
   "source": [
    "import pandas as pd\n",
    "import duckdb\n",
    "import os"
   ]
  },
  {
   "cell_type": "code",
   "execution_count": 2,
   "metadata": {},
   "outputs": [],
   "source": [
    "base_dir = \"data/\"\n",
    "csv_files = [file for file in os.listdir(base_dir) if file.endswith(\".csv\")]"
   ]
  },
  {
   "cell_type": "code",
   "execution_count": 3,
   "metadata": {},
   "outputs": [],
   "source": [
    "con = duckdb.connect(database=':memory:', read_only=False)"
   ]
  },
  {
   "cell_type": "code",
   "execution_count": 4,
   "metadata": {},
   "outputs": [],
   "source": [
    "# Create a table by reading the first CSV file\n",
    "con.execute(f\"CREATE TABLE merged_data AS SELECT * FROM read_csv_auto('{base_dir + csv_files[0]}')\")\n",
    "\n",
    "# Append the remaining CSV files to the table\n",
    "for file in csv_files[1:]:\n",
    "    con.execute(f\"INSERT INTO merged_data SELECT * FROM read_csv_auto('{base_dir + file}')\")"
   ]
  },
  {
   "cell_type": "code",
   "execution_count": 5,
   "metadata": {},
   "outputs": [
    {
     "name": "stdout",
     "output_type": "stream",
     "text": [
      "Total rows: 8031455\n",
      "Columns: ['Number', 'Start date', 'Start station number', 'Start station', 'End date', 'End station number', 'End station', 'Bike number', 'Bike model', 'Total duration', 'Total duration (ms)']\n",
      "Sample data:\n",
      "      Number        Start date Start station number  \\\n",
      "0  130788021  2023-05-21 23:59               003465   \n",
      "1  130788022  2023-05-21 23:59               003483   \n",
      "2  130788019  2023-05-21 23:58               001144   \n",
      "3  130788020  2023-05-21 23:58               200252   \n",
      "4  130788017  2023-05-21 23:57               001007   \n",
      "5  130788018  2023-05-21 23:57               000982   \n",
      "6  130788013  2023-05-21 23:56               001138   \n",
      "7  130788014  2023-05-21 23:56               200099   \n",
      "8  130788015  2023-05-21 23:56               200250   \n",
      "9  130788016  2023-05-21 23:56               001138   \n",
      "\n",
      "                     Start station          End date End station number  \\\n",
      "0        Eccleston Place, Victoria  2023-05-22 00:17             000990   \n",
      "1      Fashion Street, Whitechapel  2023-05-22 00:10             200250   \n",
      "2           Poured Lines, Bankside  2023-05-22 00:07             001070   \n",
      "3          Bow Church Station, Bow  2023-05-22 00:08             300049   \n",
      "4        Drury Lane, Covent Garden  2023-05-29 12:37             300253   \n",
      "5          Holborn Circus, Holborn  2023-05-22 00:12             003430   \n",
      "6       Elizabeth Bridge, Victoria  2023-05-22 00:17             300248   \n",
      "7  Upper Bank Street, Canary Wharf  2023-05-22 00:05             200127   \n",
      "8           Cleveland Way, Stepney  2023-05-22 00:01             200234   \n",
      "9       Elizabeth Bridge, Victoria  2023-05-23 09:47             300248   \n",
      "\n",
      "                        End station Bike number  Bike model Total duration  \\\n",
      "0  Cotton Garden Estate, Kennington       30740     CLASSIC         18m 1s   \n",
      "1            Cleveland Way, Stepney       41802     CLASSIC        10m 51s   \n",
      "2         Bricklayers Arms, Borough       30995     CLASSIC         8m 56s   \n",
      "3           Aylward Street, Stepney       60359  PBSC_EBIKE        10m 11s   \n",
      "4    Bermondsey Station, Bermondsey       59578     CLASSIC  7d 12h 40m 4s   \n",
      "5            Central House, Aldgate       50108     CLASSIC        15m 15s   \n",
      "6       Sopwith Way, Battersea Park       23491     CLASSIC        21m 13s   \n",
      "7         East India DLR, Blackwall       57093     CLASSIC         8m 49s   \n",
      "8      Bancroft Road, Bethnal Green       51813     CLASSIC         4m 40s   \n",
      "9       Sopwith Way, Battersea Park       13883     CLASSIC   1d 9h 51m 5s   \n",
      "\n",
      "   Total duration (ms)  \n",
      "0              1081387  \n",
      "1               651540  \n",
      "2               536241  \n",
      "3               611684  \n",
      "4            650404661  \n",
      "5               915134  \n",
      "6              1273644  \n",
      "7               529596  \n",
      "8               280595  \n",
      "9            121865456  \n"
     ]
    }
   ],
   "source": [
    "# Example: Get the number of rows in the merged table\n",
    "row_count = con.execute(\"SELECT COUNT(*) FROM merged_data\").fetchone()[0]\n",
    "print(f\"Total rows: {row_count}\")\n",
    "\n",
    "# Example: Get the column names\n",
    "columns = con.execute(\"SELECT * FROM merged_data LIMIT 0\").description\n",
    "print(f\"Columns: {[col[0] for col in columns]}\")\n",
    "\n",
    "# Example: Fetch a sample of data as a Pandas DataFrame\n",
    "sample_df = con.execute(\"SELECT * FROM merged_data LIMIT 10\").df()\n",
    "print(\"Sample data:\")\n",
    "print(sample_df)"
   ]
  },
  {
   "cell_type": "code",
   "execution_count": 6,
   "metadata": {},
   "outputs": [
    {
     "name": "stdout",
     "output_type": "stream",
     "text": [
      "    cid                  name     type  notnull dflt_value     pk\n",
      "0     0                Number   BIGINT    False       None  False\n",
      "1     1            Start date  VARCHAR    False       None  False\n",
      "2     2  Start station number  VARCHAR    False       None  False\n",
      "3     3         Start station  VARCHAR    False       None  False\n",
      "4     4              End date  VARCHAR    False       None  False\n",
      "5     5    End station number  VARCHAR    False       None  False\n",
      "6     6           End station  VARCHAR    False       None  False\n",
      "7     7           Bike number  VARCHAR    False       None  False\n",
      "8     8            Bike model  VARCHAR    False       None  False\n",
      "9     9        Total duration  VARCHAR    False       None  False\n",
      "10   10   Total duration (ms)   BIGINT    False       None  False\n"
     ]
    }
   ],
   "source": [
    "schema = con.execute(\"PRAGMA table_info('merged_data')\").fetchdf()\n",
    "print(schema)"
   ]
  },
  {
   "cell_type": "code",
   "execution_count": 7,
   "metadata": {},
   "outputs": [
    {
     "name": "stdout",
     "output_type": "stream",
     "text": [
      "Rows with non-integer 'End station number':\n",
      "        Number        Start date Start station number  \\\n",
      "0    129236430  2023-03-16 15:06               300078   \n",
      "1    129234587  2023-03-16 13:21               200219   \n",
      "2    129230731  2023-03-16 09:38               200169   \n",
      "3    129230391  2023-03-16 09:26           200217old2   \n",
      "4    129226126  2023-03-16 07:59               200091   \n",
      "..         ...               ...                  ...   \n",
      "124  129059779  2023-03-07 20:39               300045   \n",
      "125  129056549  2023-03-07 18:36               001220   \n",
      "126  129053495  2023-03-07 17:33               200001   \n",
      "127  129050752  2023-03-07 15:57               200204   \n",
      "128  129049570  2023-03-07 14:33               300078   \n",
      "\n",
      "                           Start station          End date End station number  \\\n",
      "0                    Oxford Road, Putney  2023-03-16 15:07         200217old2   \n",
      "1                Osiers Road, Wandsworth  2023-03-16 13:26         200217old2   \n",
      "2             Ashley Crescent, Battersea  2023-03-16 10:00         200217old2   \n",
      "3                 Disraeli Road, Putney2  2023-03-16 09:30         200217old2   \n",
      "4    Wandsworth Town Station, Wandsworth  2023-03-16 08:30         200217old2   \n",
      "..                                   ...               ...                ...   \n",
      "124   Albert Bridge Road, Battersea Park  2023-03-07 20:55         200217old2   \n",
      "125      Imperial College, Knightsbridge  2023-03-07 19:04         200217old2   \n",
      "126       Limerston Street, West Chelsea  2023-03-07 17:50         200217old2   \n",
      "127              Northfields, Wandsworth  2023-03-07 16:03         200217old2   \n",
      "128                  Oxford Road, Putney  2023-03-07 14:34         200217old2   \n",
      "\n",
      "                End station Bike number Bike model Total duration  \\\n",
      "0    Disraeli Road, Putney2       35533    CLASSIC         1m 12s   \n",
      "1    Disraeli Road, Putney2       23681    CLASSIC         5m 35s   \n",
      "2    Disraeli Road, Putney2       19597    CLASSIC        21m 46s   \n",
      "3    Disraeli Road, Putney2       57139    CLASSIC         4m 41s   \n",
      "4    Disraeli Road, Putney2       57473    CLASSIC        30m 21s   \n",
      "..                      ...         ...        ...            ...   \n",
      "124  Disraeli Road, Putney2       22273    CLASSIC        15m 13s   \n",
      "125  Disraeli Road, Putney2       53085    CLASSIC        28m 17s   \n",
      "126  Disraeli Road, Putney2       52405    CLASSIC        17m 13s   \n",
      "127  Disraeli Road, Putney2       59487    CLASSIC         5m 55s   \n",
      "128  Disraeli Road, Putney2       53758    CLASSIC         1m 52s   \n",
      "\n",
      "     Total duration (ms)  \n",
      "0                  72069  \n",
      "1                 335212  \n",
      "2                1306165  \n",
      "3                 281269  \n",
      "4                1821401  \n",
      "..                   ...  \n",
      "124               913360  \n",
      "125              1697965  \n",
      "126              1033459  \n",
      "127               355834  \n",
      "128               112144  \n",
      "\n",
      "[129 rows x 11 columns]\n"
     ]
    }
   ],
   "source": [
    "# Find rows where \"Start station number\" or \"End station number\" is not an integer\n",
    "non_integer_rows = con.execute(\"\"\"\n",
    "    SELECT *\n",
    "    FROM merged_data\n",
    "    WHERE REGEXP_MATCHES(CAST(\"Start station number\" AS VARCHAR), '\\\\D')\n",
    "       OR REGEXP_MATCHES(CAST(\"End station number\" AS VARCHAR), '\\\\D')\n",
    "\"\"\").df()\n",
    "\n",
    "# Create a new DataFrame without the non-integer rows\n",
    "cleaned_data = con.execute(\"\"\"\n",
    "    SELECT *\n",
    "    FROM merged_data\n",
    "    WHERE NOT REGEXP_MATCHES(CAST(\"Start station number\" AS VARCHAR), '\\\\D')\n",
    "       AND NOT REGEXP_MATCHES(CAST(\"End station number\" AS VARCHAR), '\\\\D')\n",
    "\"\"\").df()\n",
    "\n",
    "print(\"Rows with non-integer 'Start station number' or 'End station number':\")\n",
    "print(non_integer_rows)\n",
    "\n",
    "print(\"\\nCleaned data:\")\n",
    "print(cleaned_data)"
   ]
  }
 ],
 "metadata": {
  "kernelspec": {
   "display_name": "uk-bike-usage-analysis-HGhFWJGV-py3.11",
   "language": "python",
   "name": "python3"
  },
  "language_info": {
   "codemirror_mode": {
    "name": "ipython",
    "version": 3
   },
   "file_extension": ".py",
   "mimetype": "text/x-python",
   "name": "python",
   "nbconvert_exporter": "python",
   "pygments_lexer": "ipython3",
   "version": "3.11.5"
  }
 },
 "nbformat": 4,
 "nbformat_minor": 2
}
